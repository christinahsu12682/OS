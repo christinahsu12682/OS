{
  "nbformat": 4,
  "nbformat_minor": 0,
  "metadata": {
    "colab": {
      "provenance": []
    },
    "kernelspec": {
      "name": "python3",
      "display_name": "Python 3"
    },
    "language_info": {
      "name": "python"
    }
  },
  "cells": [
    {
      "cell_type": "markdown",
      "source": [
        "#**Introduction to Qiskit**\n",
        "\n",
        "*prepared by Nur Ainin Sabrina*\n",
        "\n",
        "<br><br><br> <hr>\n"
      ],
      "metadata": {
        "id": "o0MMuMTUrAZh"
      }
    },
    {
      "cell_type": "markdown",
      "source": [
        "\n",
        "\n",
        "\n",
        "Qiskit is recognized as **open-source quantum computing framework**  developed by IBM that lets users design circuits, run simulations, and execute tasks on real quantum hardware. It offers one of the most complete open-source toolsets for advancing quantum research across multiple levels. Its efficient transpiler enables large-scale experimentation, preparing workloads up to 63 times faster than other software development kits (SDKs). It enhances accessibility to quantum computing for students, researchers, and developers.\n",
        "\n",
        "The term “Qiskit” broadly refers to **a suite of software designed for running quantum programs**. Its main components are the *Qiskit SDK* and the **Qiskit Runtime environment**, which let users execute workloads on IBM® quantum processors (QPUs). As quantum technology advances, Qiskit continues to grow with new features and capabilities each year. Beyond the SDK itself, there is a wider Qiskit ecosystem of open-source projects that integrate with Qiskit. While not officially part of Qiskit, these tools enhance its functionality and support more diverse applications in quantum research and development.\n",
        "\n",
        "<br>\n",
        "\n",
        "<h4>Note</h4>\n",
        "\n",
        "For this workshop, we will be using **Google Colab** exclusively. Since Colab resets its environment each time you open or run the notebook, you will need to install the required packages every time by running:\n",
        "\n",
        "```\n",
        "!pip install qiskit\n",
        "!pip install qiskit[visualization]\n",
        "!pip install qiskit_aer\n",
        "```\n",
        "\n",
        "If you are interested in setting up your own Qiskit environment on your computer, you can follow IBM’s video tutorial series here:\n",
        "\n",
        "https://youtu.be/dZWz4Gs_BuI?si=wW7OHRliqVJwElz1"
      ],
      "metadata": {
        "id": "9oMsMkSD7kdA"
      }
    },
    {
      "cell_type": "code",
      "source": [
        "!pip install qiskit\n",
        "!pip install qiskit[visualization]\n",
        "!pip install qiskit_aer"
      ],
      "metadata": {
        "colab": {
          "base_uri": "https://localhost:8080/"
        },
        "collapsed": true,
        "id": "ur6BIQAWHhxu",
        "outputId": "69130b81-3fe9-4a59-ee57-6629b231a617"
      },
      "execution_count": 1,
      "outputs": [
        {
          "output_type": "stream",
          "name": "stdout",
          "text": [
            "Collecting qiskit\n",
            "  Downloading qiskit-2.2.2-cp39-abi3-manylinux2014_x86_64.manylinux_2_17_x86_64.whl.metadata (12 kB)\n",
            "Collecting rustworkx>=0.15.0 (from qiskit)\n",
            "  Downloading rustworkx-0.17.1-cp39-abi3-manylinux_2_17_x86_64.manylinux2014_x86_64.whl.metadata (10 kB)\n",
            "Requirement already satisfied: numpy<3,>=1.17 in /usr/local/lib/python3.12/dist-packages (from qiskit) (2.0.2)\n",
            "Requirement already satisfied: scipy>=1.5 in /usr/local/lib/python3.12/dist-packages (from qiskit) (1.16.2)\n",
            "Requirement already satisfied: dill>=0.3 in /usr/local/lib/python3.12/dist-packages (from qiskit) (0.3.8)\n",
            "Collecting stevedore>=3.0.0 (from qiskit)\n",
            "  Downloading stevedore-5.5.0-py3-none-any.whl.metadata (2.2 kB)\n",
            "Requirement already satisfied: typing-extensions in /usr/local/lib/python3.12/dist-packages (from qiskit) (4.15.0)\n",
            "Downloading qiskit-2.2.2-cp39-abi3-manylinux2014_x86_64.manylinux_2_17_x86_64.whl (8.0 MB)\n",
            "\u001b[2K   \u001b[90m━━━━━━━━━━━━━━━━━━━━━━━━━━━━━━━━━━━━━━━━\u001b[0m \u001b[32m8.0/8.0 MB\u001b[0m \u001b[31m79.2 MB/s\u001b[0m eta \u001b[36m0:00:00\u001b[0m\n",
            "\u001b[?25hDownloading rustworkx-0.17.1-cp39-abi3-manylinux_2_17_x86_64.manylinux2014_x86_64.whl (2.2 MB)\n",
            "\u001b[2K   \u001b[90m━━━━━━━━━━━━━━━━━━━━━━━━━━━━━━━━━━━━━━━━\u001b[0m \u001b[32m2.2/2.2 MB\u001b[0m \u001b[31m78.6 MB/s\u001b[0m eta \u001b[36m0:00:00\u001b[0m\n",
            "\u001b[?25hDownloading stevedore-5.5.0-py3-none-any.whl (49 kB)\n",
            "\u001b[2K   \u001b[90m━━━━━━━━━━━━━━━━━━━━━━━━━━━━━━━━━━━━━━━━\u001b[0m \u001b[32m49.5/49.5 kB\u001b[0m \u001b[31m4.1 MB/s\u001b[0m eta \u001b[36m0:00:00\u001b[0m\n",
            "\u001b[?25hInstalling collected packages: stevedore, rustworkx, qiskit\n",
            "Successfully installed qiskit-2.2.2 rustworkx-0.17.1 stevedore-5.5.0\n",
            "Requirement already satisfied: qiskit[visualization] in /usr/local/lib/python3.12/dist-packages (2.2.2)\n",
            "Requirement already satisfied: rustworkx>=0.15.0 in /usr/local/lib/python3.12/dist-packages (from qiskit[visualization]) (0.17.1)\n",
            "Requirement already satisfied: numpy<3,>=1.17 in /usr/local/lib/python3.12/dist-packages (from qiskit[visualization]) (2.0.2)\n",
            "Requirement already satisfied: scipy>=1.5 in /usr/local/lib/python3.12/dist-packages (from qiskit[visualization]) (1.16.2)\n",
            "Requirement already satisfied: dill>=0.3 in /usr/local/lib/python3.12/dist-packages (from qiskit[visualization]) (0.3.8)\n",
            "Requirement already satisfied: stevedore>=3.0.0 in /usr/local/lib/python3.12/dist-packages (from qiskit[visualization]) (5.5.0)\n",
            "Requirement already satisfied: typing-extensions in /usr/local/lib/python3.12/dist-packages (from qiskit[visualization]) (4.15.0)\n",
            "Requirement already satisfied: matplotlib>=3.3 in /usr/local/lib/python3.12/dist-packages (from qiskit[visualization]) (3.10.0)\n",
            "Requirement already satisfied: pydot in /usr/local/lib/python3.12/dist-packages (from qiskit[visualization]) (3.0.4)\n",
            "Requirement already satisfied: Pillow>=4.2.1 in /usr/local/lib/python3.12/dist-packages (from qiskit[visualization]) (11.3.0)\n",
            "Collecting pylatexenc>=1.4 (from qiskit[visualization])\n",
            "  Downloading pylatexenc-2.10.tar.gz (162 kB)\n",
            "\u001b[2K     \u001b[90m━━━━━━━━━━━━━━━━━━━━━━━━━━━━━━━━━━━━━━━\u001b[0m \u001b[32m162.6/162.6 kB\u001b[0m \u001b[31m7.0 MB/s\u001b[0m eta \u001b[36m0:00:00\u001b[0m\n",
            "\u001b[?25h  Preparing metadata (setup.py) ... \u001b[?25l\u001b[?25hdone\n",
            "Requirement already satisfied: seaborn>=0.9.0 in /usr/local/lib/python3.12/dist-packages (from qiskit[visualization]) (0.13.2)\n",
            "Requirement already satisfied: sympy>=1.3 in /usr/local/lib/python3.12/dist-packages (from qiskit[visualization]) (1.13.3)\n",
            "Requirement already satisfied: contourpy>=1.0.1 in /usr/local/lib/python3.12/dist-packages (from matplotlib>=3.3->qiskit[visualization]) (1.3.3)\n",
            "Requirement already satisfied: cycler>=0.10 in /usr/local/lib/python3.12/dist-packages (from matplotlib>=3.3->qiskit[visualization]) (0.12.1)\n",
            "Requirement already satisfied: fonttools>=4.22.0 in /usr/local/lib/python3.12/dist-packages (from matplotlib>=3.3->qiskit[visualization]) (4.60.1)\n",
            "Requirement already satisfied: kiwisolver>=1.3.1 in /usr/local/lib/python3.12/dist-packages (from matplotlib>=3.3->qiskit[visualization]) (1.4.9)\n",
            "Requirement already satisfied: packaging>=20.0 in /usr/local/lib/python3.12/dist-packages (from matplotlib>=3.3->qiskit[visualization]) (25.0)\n",
            "Requirement already satisfied: pyparsing>=2.3.1 in /usr/local/lib/python3.12/dist-packages (from matplotlib>=3.3->qiskit[visualization]) (3.2.5)\n",
            "Requirement already satisfied: python-dateutil>=2.7 in /usr/local/lib/python3.12/dist-packages (from matplotlib>=3.3->qiskit[visualization]) (2.9.0.post0)\n",
            "Requirement already satisfied: pandas>=1.2 in /usr/local/lib/python3.12/dist-packages (from seaborn>=0.9.0->qiskit[visualization]) (2.2.2)\n",
            "Requirement already satisfied: mpmath<1.4,>=1.1.0 in /usr/local/lib/python3.12/dist-packages (from sympy>=1.3->qiskit[visualization]) (1.3.0)\n",
            "Requirement already satisfied: pytz>=2020.1 in /usr/local/lib/python3.12/dist-packages (from pandas>=1.2->seaborn>=0.9.0->qiskit[visualization]) (2025.2)\n",
            "Requirement already satisfied: tzdata>=2022.7 in /usr/local/lib/python3.12/dist-packages (from pandas>=1.2->seaborn>=0.9.0->qiskit[visualization]) (2025.2)\n",
            "Requirement already satisfied: six>=1.5 in /usr/local/lib/python3.12/dist-packages (from python-dateutil>=2.7->matplotlib>=3.3->qiskit[visualization]) (1.17.0)\n",
            "Building wheels for collected packages: pylatexenc\n",
            "  Building wheel for pylatexenc (setup.py) ... \u001b[?25l\u001b[?25hdone\n",
            "  Created wheel for pylatexenc: filename=pylatexenc-2.10-py3-none-any.whl size=136817 sha256=eaa891897f33dbe7f51cc4d6e6e9c36aad36c76ae7ef28f69bd2baabadb4a3b9\n",
            "  Stored in directory: /root/.cache/pip/wheels/06/3e/78/fa1588c1ae991bbfd814af2bcac6cef7a178beee1939180d46\n",
            "Successfully built pylatexenc\n",
            "Installing collected packages: pylatexenc\n",
            "Successfully installed pylatexenc-2.10\n",
            "Collecting qiskit_aer\n",
            "  Downloading qiskit_aer-0.17.2-cp312-cp312-manylinux_2_17_x86_64.manylinux2014_x86_64.whl.metadata (8.3 kB)\n",
            "Requirement already satisfied: qiskit>=1.1.0 in /usr/local/lib/python3.12/dist-packages (from qiskit_aer) (2.2.2)\n",
            "Requirement already satisfied: numpy>=1.16.3 in /usr/local/lib/python3.12/dist-packages (from qiskit_aer) (2.0.2)\n",
            "Requirement already satisfied: scipy>=1.0 in /usr/local/lib/python3.12/dist-packages (from qiskit_aer) (1.16.2)\n",
            "Requirement already satisfied: psutil>=5 in /usr/local/lib/python3.12/dist-packages (from qiskit_aer) (5.9.5)\n",
            "Requirement already satisfied: python-dateutil>=2.8.0 in /usr/local/lib/python3.12/dist-packages (from qiskit_aer) (2.9.0.post0)\n",
            "Requirement already satisfied: six>=1.5 in /usr/local/lib/python3.12/dist-packages (from python-dateutil>=2.8.0->qiskit_aer) (1.17.0)\n",
            "Requirement already satisfied: rustworkx>=0.15.0 in /usr/local/lib/python3.12/dist-packages (from qiskit>=1.1.0->qiskit_aer) (0.17.1)\n",
            "Requirement already satisfied: dill>=0.3 in /usr/local/lib/python3.12/dist-packages (from qiskit>=1.1.0->qiskit_aer) (0.3.8)\n",
            "Requirement already satisfied: stevedore>=3.0.0 in /usr/local/lib/python3.12/dist-packages (from qiskit>=1.1.0->qiskit_aer) (5.5.0)\n",
            "Requirement already satisfied: typing-extensions in /usr/local/lib/python3.12/dist-packages (from qiskit>=1.1.0->qiskit_aer) (4.15.0)\n",
            "Downloading qiskit_aer-0.17.2-cp312-cp312-manylinux_2_17_x86_64.manylinux2014_x86_64.whl (12.4 MB)\n",
            "\u001b[2K   \u001b[90m━━━━━━━━━━━━━━━━━━━━━━━━━━━━━━━━━━━━━━━━\u001b[0m \u001b[32m12.4/12.4 MB\u001b[0m \u001b[31m90.2 MB/s\u001b[0m eta \u001b[36m0:00:00\u001b[0m\n",
            "\u001b[?25hInstalling collected packages: qiskit_aer\n",
            "Successfully installed qiskit_aer-0.17.2\n"
          ]
        }
      ]
    },
    {
      "cell_type": "markdown",
      "source": [
        "\n",
        "<h4> Qiskit Version </h4>\n",
        "\n",
        "Make sure you are using the latest version of Qiskit (v2.2.1), as the IBM Quantum documentation has been updated to reflect this release.\n",
        "\n",
        "You can find the official Qiskit documentation here:\n",
        "\n",
        "https://quantum.cloud.ibm.com/docs/en/guides"
      ],
      "metadata": {
        "id": "SCalpV5jZuvr"
      }
    },
    {
      "cell_type": "code",
      "source": [
        "import qiskit\n",
        "versions = qiskit.__version__\n",
        "print(\"The version of Qiskit is\",versions)"
      ],
      "metadata": {
        "id": "6neqweOPaQET",
        "colab": {
          "base_uri": "https://localhost:8080/"
        },
        "outputId": "1244a6b0-3fbb-4830-9831-7014a3679181"
      },
      "execution_count": 2,
      "outputs": [
        {
          "output_type": "stream",
          "name": "stdout",
          "text": [
            "The version of Qiskit is 2.2.2\n"
          ]
        }
      ]
    },
    {
      "cell_type": "markdown",
      "source": [
        "\n",
        "---\n",
        "<h3><b> Quantum Registers and Classical Register </b> </h3>\n"
      ],
      "metadata": {
        "id": "iGDqKANgD9Pb"
      }
    },
    {
      "cell_type": "markdown",
      "source": [
        "Quantum Register: *A collection of qubits (quantum bits) that can exist in superposition and entanglement. In Qiskit, a quantum register is used to store and manage these qubits for building quantum circuits.*\n"
      ],
      "metadata": {
        "id": "MK65H5eXF0N9"
      }
    },
    {
      "cell_type": "code",
      "source": [
        "from qiskit import QuantumRegister, ClassicalRegister, QuantumCircuit\n",
        "\n",
        "# 5 is the number of qubits we want to create\n",
        "# qreg is the name of the quantum register\n",
        "qreg =  QuantumRegister(5)\n"
      ],
      "metadata": {
        "id": "jv4yOFogHjZ0"
      },
      "execution_count": 3,
      "outputs": []
    },
    {
      "cell_type": "markdown",
      "source": [
        "Classical Register: *A collection of classical bits (0 or 1) used to store the outcomes of qubit measurements. In Qiskit, we create a classical register to hold these results after observing the quantum state.*"
      ],
      "metadata": {
        "id": "GbfagFP1IVFH"
      }
    },
    {
      "cell_type": "code",
      "source": [
        "# 4 is the number of classical bits we want to create\n",
        "# creg is the name of the classical register\n",
        "creg = ClassicalRegister(5)"
      ],
      "metadata": {
        "id": "fvC8V9eBSIt3"
      },
      "execution_count": 4,
      "outputs": []
    },
    {
      "cell_type": "markdown",
      "source": [
        "\n",
        "---\n",
        "<h3><b> Quantum Circuit </b> </h3>\n",
        "\n",
        "In Qiskit, a quantum circuit combines quantum and classical registers to define quantum operations.\n"
      ],
      "metadata": {
        "id": "659sJW7YOx-Z"
      }
    },
    {
      "cell_type": "code",
      "source": [
        "# a quantum circuit with quantum register qreg and classical register creg\n",
        "circuit = QuantumCircuit(qreg,creg)\n",
        "\n",
        "# You can create a quantum circuit with multiple quantum registers\n",
        "output = QuantumRegister(1)\n",
        "circuit2 = QuantumCircuit(qreg, output, creg)\n",
        "\n",
        "# You can create a quantum circuit consisting of only a quantum register if no measurement will take place\n",
        "circuit3 = QuantumCircuit(qreg)\n",
        "\n",
        "# Creating a quantum circuit without specfiying any registers is also possible\n",
        "# Creates a quantum circuit with 3 qubits and 3 classical bits\n",
        "circuit4 = QuantumCircuit(3,3)"
      ],
      "metadata": {
        "id": "7Zzd1AR2PV1G"
      },
      "execution_count": 5,
      "outputs": []
    },
    {
      "cell_type": "markdown",
      "source": [
        "Gates are the building blocks of quantum circuits. They are applied to specific qubits to manipulate their states."
      ],
      "metadata": {
        "id": "f4ehrns63c0v"
      }
    },
    {
      "cell_type": "markdown",
      "source": [
        "1. One qubit gates (act on a single qubit)"
      ],
      "metadata": {
        "id": "xKm6DE64zRZ_"
      }
    },
    {
      "cell_type": "code",
      "source": [
        "# apply x-gate (NOT operator) to the qubit \"qreg[2]\" of the quantum circuit \"circuit\"\n",
        "circuit.x(qreg[2])\n",
        "\n",
        "# apply z-gate (Z operator) to the qubit \"qreg[4]\" of the quantum circuit \"circuit\"\n",
        "circuit.z(qreg[4])\n",
        "\n",
        "# apply h-gate (Hadamard operator) to the qubit \"qreg[1]\" of the quantum circuit \"circuit\"\n",
        "circuit.h(qreg[1])\n"
      ],
      "metadata": {
        "colab": {
          "base_uri": "https://localhost:8080/"
        },
        "id": "-CHClHDrz-YY",
        "outputId": "7f3017ef-fbe3-488a-cd62-9b16cfa71bf9"
      },
      "execution_count": 6,
      "outputs": [
        {
          "output_type": "execute_result",
          "data": {
            "text/plain": [
              "<qiskit.circuit.instructionset.InstructionSet at 0x7d0480f9c9a0>"
            ]
          },
          "metadata": {},
          "execution_count": 6
        }
      ]
    },
    {
      "cell_type": "markdown",
      "source": [
        "2. Two-qubit gates (act on two qubits)\n"
      ],
      "metadata": {
        "id": "dCUIDXds2_wT"
      }
    },
    {
      "cell_type": "code",
      "source": [
        "# controller qubit is qreg[1] -- the first parameter\n",
        "# target qubit is qreg[0] -- the second parameter\n",
        "# apply cx-gate (CNOT operator) to the qubits \"qreg[1]\" and \"qreg[0]\" of the quantum circuit \"circuit\"\n",
        "circuit.cx(qreg[1],qreg[0])\n",
        "\n",
        "# apply CZ gate to the qubits \"qreg[2]\" and \"qreg[1]\" of the quantum circuit \"circuit\"\n",
        "circuit.cz(qreg[2],qreg[1])\n",
        "\n",
        "# apply SWAP gate to the qubits \"qreg[1]\" and \"qreg[3]\" of the quantum circuit \"circuit\"\n",
        "circuit.swap(qreg[1],qreg[3])"
      ],
      "metadata": {
        "colab": {
          "base_uri": "https://localhost:8080/"
        },
        "id": "66h_i7rz1akC",
        "outputId": "099787f2-ee45-43ef-cb3f-7683498281eb"
      },
      "execution_count": 7,
      "outputs": [
        {
          "output_type": "execute_result",
          "data": {
            "text/plain": [
              "<qiskit.circuit.instructionset.InstructionSet at 0x7d0480ff0b20>"
            ]
          },
          "metadata": {},
          "execution_count": 7
        }
      ]
    },
    {
      "cell_type": "markdown",
      "source": [
        "3. Three-qubit gates (act on three qubits)"
      ],
      "metadata": {
        "id": "vyIxEJI57fIv"
      }
    },
    {
      "cell_type": "code",
      "source": [
        "# 1st controller qubit is qreg[2] -- the first parameter\n",
        "# 2nd controller qubit is qreg[1] -- the second parameter\n",
        "# target qubit is qreg[0] -- the third parameter\n",
        "# apply ccx-gate (Toffoli (CCNOT) operator) to the qubits \"qreg[2]\", \"qreg[1]\", and \"qreg[0]\" of the quantum circuit \"circuit\"\n",
        "circuit.ccx(qreg[2],qreg[1],qreg[0])"
      ],
      "metadata": {
        "colab": {
          "base_uri": "https://localhost:8080/"
        },
        "id": "d6eyijk-7rXx",
        "outputId": "d17c4ec4-2590-489c-da22-136e849de610"
      },
      "execution_count": 8,
      "outputs": [
        {
          "output_type": "execute_result",
          "data": {
            "text/plain": [
              "<qiskit.circuit.instructionset.InstructionSet at 0x7d0482b498d0>"
            ]
          },
          "metadata": {},
          "execution_count": 8
        }
      ]
    },
    {
      "cell_type": "markdown",
      "source": [
        "\n",
        "\n",
        "---\n",
        "<h3> <b> Measuring a quantum circuit </b></h3>"
      ],
      "metadata": {
        "id": "nMNW-RFi8LSr"
      }
    },
    {
      "cell_type": "markdown",
      "source": [
        "Each quantum bit can be associated with a specific classical bit when measuring.\n",
        "\n"
      ],
      "metadata": {
        "id": "teo6wioY8WWs"
      }
    },
    {
      "cell_type": "code",
      "source": [
        "circuit.measure(qreg[0], creg[3])  # qubit 0 → classical bit 3\n",
        "circuit.measure(qreg[1], creg[1])  # qubit 1 → classical bit 1\n",
        "circuit.measure(qreg[2], creg[4])  # qubit 2 → classical bit 4\n",
        "circuit.measure(qreg[3], creg[0])  # qubit 3 → classical bit 0\n",
        "circuit.measure(qreg[4], creg[2])  # qubit 4 → classical bit 2"
      ],
      "metadata": {
        "colab": {
          "base_uri": "https://localhost:8080/"
        },
        "id": "pI-PlPaV8rbU",
        "outputId": "45c410ba-e47d-47a4-c413-0e643608a0c9"
      },
      "execution_count": 9,
      "outputs": [
        {
          "output_type": "execute_result",
          "data": {
            "text/plain": [
              "<qiskit.circuit.instructionset.InstructionSet at 0x7d04823fa110>"
            ]
          },
          "metadata": {},
          "execution_count": 9
        }
      ]
    },
    {
      "cell_type": "markdown",
      "source": [
        "In many cases, each quantum bit is associated with the classical bit having the same index."
      ],
      "metadata": {
        "id": "_9lpucqt89VG"
      }
    },
    {
      "cell_type": "code",
      "source": [
        "circuit.measure(qreg[0], creg[0])\n",
        "circuit.measure(qreg[1], creg[1])\n",
        "circuit.measure(qreg[2], creg[2])\n",
        "circuit.measure(qreg[3], creg[3])\n",
        "circuit.measure(qreg[4], creg[4])"
      ],
      "metadata": {
        "colab": {
          "base_uri": "https://localhost:8080/"
        },
        "id": "l38OYjCu9Dcu",
        "outputId": "54132c74-1592-4997-baef-2d8b89bd42a3"
      },
      "execution_count": 10,
      "outputs": [
        {
          "output_type": "execute_result",
          "data": {
            "text/plain": [
              "<qiskit.circuit.instructionset.InstructionSet at 0x7d0482b4a5c0>"
            ]
          },
          "metadata": {},
          "execution_count": 10
        }
      ]
    },
    {
      "cell_type": "markdown",
      "source": [
        "This can be shortly specified as"
      ],
      "metadata": {
        "id": "Ceoxxeph9cjD"
      }
    },
    {
      "cell_type": "code",
      "source": [
        "# measure \"qreg\" and store the outcomes on \"creg\"\n",
        "circuit.measure(qreg,creg)"
      ],
      "metadata": {
        "colab": {
          "base_uri": "https://localhost:8080/"
        },
        "id": "7vbN-CPB9Ecd",
        "outputId": "c6bdb21d-bb96-4b5d-99df-c5dfe024c32d"
      },
      "execution_count": 11,
      "outputs": [
        {
          "output_type": "execute_result",
          "data": {
            "text/plain": [
              "<qiskit.circuit.instructionset.InstructionSet at 0x7d0480e85810>"
            ]
          },
          "metadata": {},
          "execution_count": 11
        }
      ]
    },
    {
      "cell_type": "markdown",
      "source": [
        "<hr><h3><b> Visualization </b></h3>\n",
        "\n",
        "Drawing or printing a quantum circuit"
      ],
      "metadata": {
        "id": "vBOV_-1Q_vwn"
      }
    },
    {
      "cell_type": "markdown",
      "source": [
        "1. We use a method of circuit object called \"draw\". Without any parameters, the circuit is drawn by using ASCII art"
      ],
      "metadata": {
        "id": "YzZ17oiyGp4G"
      }
    },
    {
      "cell_type": "code",
      "source": [
        "circuit.draw()"
      ],
      "metadata": {
        "colab": {
          "base_uri": "https://localhost:8080/",
          "height": 217
        },
        "id": "wxyzKHFVBEy1",
        "outputId": "77cc0796-ec90-4d9b-e28d-22fa4333bd64",
        "collapsed": true
      },
      "execution_count": 12,
      "outputs": [
        {
          "output_type": "execute_result",
          "data": {
            "text/plain": [
              "           ┌───┐      ┌───┐┌─┐      ┌─┐            ┌─┐            \n",
              "q0_0: ─────┤ X ├──────┤ X ├┤M├──────┤M├────────────┤M├────────────\n",
              "      ┌───┐└─┬─┘      └─┬─┘└╥┘┌─┐   └╥┘┌─┐         └╥┘┌─┐         \n",
              "q0_1: ┤ H ├──■───■──X───■───╫─┤M├────╫─┤M├──────────╫─┤M├─────────\n",
              "      ├───┤      │  │   │   ║ └╥┘┌─┐ ║ └╥┘┌─┐       ║ └╥┘┌─┐      \n",
              "q0_2: ┤ X ├──────■──┼───■───╫──╫─┤M├─╫──╫─┤M├───────╫──╫─┤M├──────\n",
              "      └───┘         │  ┌─┐  ║  ║ └╥┘ ║  ║ └╥┘┌─┐    ║  ║ └╥┘┌─┐   \n",
              "q0_3: ──────────────X──┤M├──╫──╫──╫──╫──╫──╫─┤M├────╫──╫──╫─┤M├───\n",
              "      ┌───┐ ┌─┐        └╥┘  ║  ║  ║  ║  ║  ║ └╥┘┌─┐ ║  ║  ║ └╥┘┌─┐\n",
              "q0_4: ┤ Z ├─┤M├─────────╫───╫──╫──╫──╫──╫──╫──╫─┤M├─╫──╫──╫──╫─┤M├\n",
              "      └───┘ └╥┘         ║   ║  ║  ║  ║  ║  ║  ║ └╥┘ ║  ║  ║  ║ └╥┘\n",
              "c0: 5/═══════╩══════════╩═══╩══╩══╩══╩══╩══╩══╩══╩══╩══╩══╩══╩══╩═\n",
              "             2          0   3  1  4  0  1  2  3  4  0  1  2  3  4 "
            ],
            "text/html": [
              "<pre style=\"word-wrap: normal;white-space: pre;background: #fff0;line-height: 1.1;font-family: &quot;Courier New&quot;,Courier,monospace\">           ┌───┐      ┌───┐┌─┐      ┌─┐            ┌─┐            \n",
              "q0_0: ─────┤ X ├──────┤ X ├┤M├──────┤M├────────────┤M├────────────\n",
              "      ┌───┐└─┬─┘      └─┬─┘└╥┘┌─┐   └╥┘┌─┐         └╥┘┌─┐         \n",
              "q0_1: ┤ H ├──■───■──X───■───╫─┤M├────╫─┤M├──────────╫─┤M├─────────\n",
              "      ├───┤      │  │   │   ║ └╥┘┌─┐ ║ └╥┘┌─┐       ║ └╥┘┌─┐      \n",
              "q0_2: ┤ X ├──────■──┼───■───╫──╫─┤M├─╫──╫─┤M├───────╫──╫─┤M├──────\n",
              "      └───┘         │  ┌─┐  ║  ║ └╥┘ ║  ║ └╥┘┌─┐    ║  ║ └╥┘┌─┐   \n",
              "q0_3: ──────────────X──┤M├──╫──╫──╫──╫──╫──╫─┤M├────╫──╫──╫─┤M├───\n",
              "      ┌───┐ ┌─┐        └╥┘  ║  ║  ║  ║  ║  ║ └╥┘┌─┐ ║  ║  ║ └╥┘┌─┐\n",
              "q0_4: ┤ Z ├─┤M├─────────╫───╫──╫──╫──╫──╫──╫──╫─┤M├─╫──╫──╫──╫─┤M├\n",
              "      └───┘ └╥┘         ║   ║  ║  ║  ║  ║  ║  ║ └╥┘ ║  ║  ║  ║ └╥┘\n",
              "c0: 5/═══════╩══════════╩═══╩══╩══╩══╩══╩══╩══╩══╩══╩══╩══╩══╩══╩═\n",
              "             2          0   3  1  4  0  1  2  3  4  0  1  2  3  4 </pre>"
            ]
          },
          "metadata": {},
          "execution_count": 12
        }
      ]
    },
    {
      "cell_type": "markdown",
      "source": [
        "2. The circuit can be drawn by using \"matplotlib\" library of python"
      ],
      "metadata": {
        "id": "0EhZhpYXHFwz"
      }
    },
    {
      "cell_type": "code",
      "source": [
        "circuit.draw(output='mpl')"
      ],
      "metadata": {
        "colab": {
          "base_uri": "https://localhost:8080/",
          "height": 449
        },
        "id": "dNfHzoxAHJZX",
        "outputId": "9f51328a-3618-494e-b6d6-6f61cce5600c",
        "collapsed": true
      },
      "execution_count": 13,
      "outputs": [
        {
          "output_type": "execute_result",
          "data": {
            "text/plain": [
              "<Figure size 1643.3x535.111 with 1 Axes>"
            ],
            "image/png": "[encoded data removed]"
          },
          "metadata": {},
          "execution_count": 13
        }
      ]
    },
    {
      "cell_type": "markdown",
      "source": [
        "The quantum state of a circuit can be read when using \"StatevectorSimulator\". It is possible to get the exact quantum state from the simulator."
      ],
      "metadata": {
        "id": "XkDaKskjISgC"
      }
    },
    {
      "cell_type": "code",
      "source": [
        "from qiskit import QuantumRegister, ClassicalRegister, QuantumCircuit\n",
        "from qiskit_aer import StatevectorSimulator\n",
        "\n",
        "# Create quantum and classical registers with 2 qubits\n",
        "qreg = QuantumRegister(2)\n",
        "creg = ClassicalRegister(2)\n",
        "\n",
        "# Create a new circuit\n",
        "circuit = QuantumCircuit(qreg,creg)\n",
        "\n",
        "# Apply H gate to qubit 0\n",
        "circuit.h(qreg[0])\n",
        "\n",
        "# This is the statevector simulator\n",
        "job = StatevectorSimulator().run(circuit)\n",
        "state = job.result().get_statevector(decimals=3)\n",
        "print(state)"
      ],
      "metadata": {
        "colab": {
          "base_uri": "https://localhost:8080/"
        },
        "id": "Pio2IbVZLDgI",
        "outputId": "a7d71fd7-ea2b-4d4f-88df-1905f638b00f"
      },
      "execution_count": 14,
      "outputs": [
        {
          "output_type": "stream",
          "name": "stdout",
          "text": [
            "Statevector([0.707+0.j, 0.707+0.j, 0.   +0.j, 0.   +0.j],\n",
            "            dims=(2, 2))\n"
          ]
        }
      ]
    },
    {
      "cell_type": "markdown",
      "source": [
        "If you use simulator after the measurement, you will observe that the quantum state has collapsed to one of the states."
      ],
      "metadata": {
        "id": "NvzmtzIRL0Xo"
      }
    },
    {
      "cell_type": "code",
      "source": [
        "circuit.measure(qreg,creg)\n",
        "job = StatevectorSimulator().run(circuit)\n",
        "state = job.result().get_statevector(decimals=3)\n",
        "print(state)"
      ],
      "metadata": {
        "colab": {
          "base_uri": "https://localhost:8080/"
        },
        "id": "jollbZStL0y7",
        "outputId": "380ff1bd-aef9-45ed-cec0-ef00ae692bcb"
      },
      "execution_count": 15,
      "outputs": [
        {
          "output_type": "stream",
          "name": "stdout",
          "text": [
            "Statevector([0.+0.j, 1.+0.j, 0.+0.j, 0.+0.j],\n",
            "            dims=(2, 2))\n"
          ]
        }
      ]
    },
    {
      "cell_type": "markdown",
      "source": [
        "The output of the circuit are the states $|00\\rangle$ and $|01\\rangle$ and they are measured almost equal number of times. At this point, we need to make a note about the order of the qubits in Qiskit. Qiskit combines the two quantum bits in the following order:\n",
        "\n",
        "$$ qreg[1], qreg[0]$$\n",
        "\n",
        "For example, when $X$ gate is applied to qreg[0], the state $|00\\rangle$ becomes $|01\\rangle$. If you want to obtain state $|10\\rangle$, then you should apply $X$ gate to qreg[1].\n"
      ],
      "metadata": {
        "id": "SJttsbn_6daq"
      }
    },
    {
      "cell_type": "code",
      "source": [
        "from qiskit import QuantumRegister, ClassicalRegister, QuantumCircuit\n",
        "from qiskit_aer import AerSimulator\n",
        "\n",
        "# Create quantum and classical registers with 2 qubits\n",
        "qreg = QuantumRegister(2)\n",
        "creg = ClassicalRegister(1) # It is enough to create a clasical register with 1 bit\n",
        "\n",
        "# Create a new circuit\n",
        "circuit = QuantumCircuit(qreg,creg)\n",
        "\n",
        "# Apply H gate to qubit 0\n",
        "circuit.h(qreg[0])\n",
        "\n",
        "# Measure qreg[0]\n",
        "circuit.measure(qreg[0],creg[0])\n",
        "\n",
        "job = AerSimulator().run(circuit,shots=1000)\n",
        "counts = job.result().get_counts()\n",
        "print(counts)"
      ],
      "metadata": {
        "colab": {
          "base_uri": "https://localhost:8080/"
        },
        "id": "SmVYmZaS98Ad",
        "outputId": "e6ef3595-c054-4a56-db81-bd60c499a9b5"
      },
      "execution_count": 16,
      "outputs": [
        {
          "output_type": "stream",
          "name": "stdout",
          "text": [
            "{'0': 492, '1': 508}\n"
          ]
        }
      ]
    },
    {
      "cell_type": "markdown",
      "source": [
        "<hr><b><h3> Example 1 </b></h3>\n",
        "\n",
        "    \n",
        "Create a quantum circuit with 10 qubits.\n",
        "\n",
        "1. Apply ${H}$ gate to qubit 0\n",
        "2. Apply nine ${CNOT}$ gates where qubit $0$ is the control and qubit $i$ is the target for $i=1\\cdots9$.\n",
        "\n",
        "Draw your circuit."
      ],
      "metadata": {
        "id": "nV3d20QlciGX"
      }
    },
    {
      "cell_type": "code",
      "source": [
        "from qiskit import QuantumRegister, ClassicalRegister, QuantumCircuit\n",
        "\n",
        "# Create quantum and classical registers with 10 qubits\n",
        "qreg = QuantumRegister(10)\n",
        "creg = ClassicalRegister(10) #For this question we don't need to create this\n",
        "\n",
        "# Create a new circuit\n",
        "circuit = QuantumCircuit(qreg,creg)\n",
        "\n",
        "# Apply H to qubit 0\n",
        "circuit.h(qreg[0])\n",
        "\n",
        "# Apply CX gates\n",
        "for i in range(1,10):\n",
        "    circuit.cx(qreg[0],qreg[i])\n",
        "\n",
        "circuit.draw()"
      ],
      "metadata": {
        "colab": {
          "base_uri": "https://localhost:8080/",
          "height": 371
        },
        "collapsed": true,
        "id": "2Mm_EKrncb4x",
        "outputId": "9b62e0f1-e181-4fea-f2c7-fbb5e4daa3be"
      },
      "execution_count": 17,
      "outputs": [
        {
          "output_type": "execute_result",
          "data": {
            "text/plain": [
              "       ┌───┐                                             \n",
              " q4_0: ┤ H ├──■────■────■────■────■────■────■────■────■──\n",
              "       └───┘┌─┴─┐  │    │    │    │    │    │    │    │  \n",
              " q4_1: ─────┤ X ├──┼────┼────┼────┼────┼────┼────┼────┼──\n",
              "            └───┘┌─┴─┐  │    │    │    │    │    │    │  \n",
              " q4_2: ──────────┤ X ├──┼────┼────┼────┼────┼────┼────┼──\n",
              "                 └───┘┌─┴─┐  │    │    │    │    │    │  \n",
              " q4_3: ───────────────┤ X ├──┼────┼────┼────┼────┼────┼──\n",
              "                      └───┘┌─┴─┐  │    │    │    │    │  \n",
              " q4_4: ────────────────────┤ X ├──┼────┼────┼────┼────┼──\n",
              "                           └───┘┌─┴─┐  │    │    │    │  \n",
              " q4_5: ─────────────────────────┤ X ├──┼────┼────┼────┼──\n",
              "                                └───┘┌─┴─┐  │    │    │  \n",
              " q4_6: ──────────────────────────────┤ X ├──┼────┼────┼──\n",
              "                                     └───┘┌─┴─┐  │    │  \n",
              " q4_7: ───────────────────────────────────┤ X ├──┼────┼──\n",
              "                                          └───┘┌─┴─┐  │  \n",
              " q4_8: ────────────────────────────────────────┤ X ├──┼──\n",
              "                                               └───┘┌─┴─┐\n",
              " q4_9: ─────────────────────────────────────────────┤ X ├\n",
              "                                                    └───┘\n",
              "c3: 10/══════════════════════════════════════════════════\n",
              "                                                         "
            ],
            "text/html": [
              "<pre style=\"word-wrap: normal;white-space: pre;background: #fff0;line-height: 1.1;font-family: &quot;Courier New&quot;,Courier,monospace\">       ┌───┐                                             \n",
              " q4_0: ┤ H ├──■────■────■────■────■────■────■────■────■──\n",
              "       └───┘┌─┴─┐  │    │    │    │    │    │    │    │  \n",
              " q4_1: ─────┤ X ├──┼────┼────┼────┼────┼────┼────┼────┼──\n",
              "            └───┘┌─┴─┐  │    │    │    │    │    │    │  \n",
              " q4_2: ──────────┤ X ├──┼────┼────┼────┼────┼────┼────┼──\n",
              "                 └───┘┌─┴─┐  │    │    │    │    │    │  \n",
              " q4_3: ───────────────┤ X ├──┼────┼────┼────┼────┼────┼──\n",
              "                      └───┘┌─┴─┐  │    │    │    │    │  \n",
              " q4_4: ────────────────────┤ X ├──┼────┼────┼────┼────┼──\n",
              "                           └───┘┌─┴─┐  │    │    │    │  \n",
              " q4_5: ─────────────────────────┤ X ├──┼────┼────┼────┼──\n",
              "                                └───┘┌─┴─┐  │    │    │  \n",
              " q4_6: ──────────────────────────────┤ X ├──┼────┼────┼──\n",
              "                                     └───┘┌─┴─┐  │    │  \n",
              " q4_7: ───────────────────────────────────┤ X ├──┼────┼──\n",
              "                                          └───┘┌─┴─┐  │  \n",
              " q4_8: ────────────────────────────────────────┤ X ├──┼──\n",
              "                                               └───┘┌─┴─┐\n",
              " q4_9: ─────────────────────────────────────────────┤ X ├\n",
              "                                                    └───┘\n",
              "c3: 10/══════════════════════════════════════════════════\n",
              "                                                         </pre>"
            ]
          },
          "metadata": {},
          "execution_count": 17
        }
      ]
    },
    {
      "cell_type": "markdown",
      "source": [
        "<hr><h3><b> Example 2 </b></h3>\n",
        "\n",
        "Implement the circuit in Task 1. Measure all the qubits and simulate your circuit for 1000 times.\n",
        "\n"
      ],
      "metadata": {
        "id": "IkVEvY0WYZdE"
      }
    },
    {
      "cell_type": "code",
      "source": [
        "from qiskit import QuantumRegister, ClassicalRegister, QuantumCircuit\n",
        "from qiskit_aer import AerSimulator\n",
        "\n",
        "\n",
        "# Create quantum and classical registers with 10 qubits\n",
        "qreg = QuantumRegister(10)\n",
        "creg = ClassicalRegister(10)\n",
        "\n",
        "# Create a new circuit\n",
        "circuit = QuantumCircuit(qreg,creg)\n",
        "\n",
        "# Apply H to qubit 0\n",
        "circuit.h(qreg[0])\n",
        "\n",
        "# Apply CX gates\n",
        "for i in range(1,10):\n",
        "    circuit.cx(qreg[0],qreg[i])\n",
        "\n",
        "circuit.measure(qreg,creg)\n",
        "\n",
        "# This is the local simulator\n",
        "# Shots is the how many times we want to run the circuit\n",
        "job = AerSimulator().run(circuit,shots=1000)\n",
        "\n",
        "# Get the results as a dictionary\n",
        "counts = job.result().get_counts(circuit)\n",
        "print(counts)"
      ],
      "metadata": {
        "colab": {
          "base_uri": "https://localhost:8080/"
        },
        "id": "7Eaekfe4ZZj7",
        "outputId": "e9b614cd-f3db-4777-e0b6-9b585b21416f"
      },
      "execution_count": 18,
      "outputs": [
        {
          "output_type": "stream",
          "name": "stdout",
          "text": [
            "{'0000000000': 507, '1111111111': 493}\n"
          ]
        }
      ]
    },
    {
      "cell_type": "markdown",
      "source": [
        "<hr><b><h3> Question 1 </b></h3>\n",
        "\n",
        "    \n",
        "Create a quantum circuit with 10 qubits.\n",
        "\n",
        "1. Apply ${H}$ gates to all qubits.\n",
        "2. Apply ${X}$ gate to qubit 0 controlled by qubits 1-9\n",
        "2. Apply ${H}$ gates to all qubits.\n",
        "\n",
        "Draw your circuit."
      ],
      "metadata": {
        "id": "nwKtHuMSZSS3"
      }
    },
    {
      "cell_type": "code",
      "source": [
        "# Your solution here"
      ],
      "metadata": {
        "id": "_S0LRGHfeu-1"
      },
      "execution_count": null,
      "outputs": []
    }
  ]
}